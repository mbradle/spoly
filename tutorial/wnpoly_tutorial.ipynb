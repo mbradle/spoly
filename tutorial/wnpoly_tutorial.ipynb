{
 "cells": [
  {
   "cell_type": "markdown",
   "metadata": {},
   "source": [
    "The aim of this notebook is to illustrate the usage of *wnpoly*.  Begin by installing the package."
   ]
  },
  {
   "cell_type": "code",
   "execution_count": 1,
   "metadata": {},
   "outputs": [],
   "source": [
    "import sys\n",
    "!{sys.executable} -m pip install --quiet numpy\n",
    "!{sys.executable} -m pip install --quiet scipy\n",
    "!{sys.executable} -m pip install --quiet wnpoly"
   ]
  },
  {
   "cell_type": "markdown",
   "metadata": {},
   "source": [
    "Next import the packages."
   ]
  },
  {
   "cell_type": "code",
   "execution_count": 2,
   "metadata": {},
   "outputs": [],
   "source": [
    "import numpy as np\n",
    "import wnpoly as wp"
   ]
  },
  {
   "cell_type": "markdown",
   "metadata": {},
   "source": [
    "*wnpoly* currently has two modules.  The first handles [Symmetric polynomials](#symmetric), which are polynomials that remain unchanged under exchange of any variables.  This [Wikipedia page](https://en.wikipedia.org/wiki/Symmetric_polynomial) provides an introduction.  The second handles [Bell polynomials](#bell), which appear particularly in problems involving [set partitions](https://en.wikipedia.org/wiki/Bell_polynomials)."
   ]
  },
  {
   "cell_type": "markdown",
   "metadata": {},
   "source": [
    "<a id='symmetric'></a>\n",
    "# Symmetric polynomials"
   ]
  },
  {
   "cell_type": "markdown",
   "metadata": {},
   "source": [
    "This section illustrates *wnpoly's* symmetric polynomial classes, which include [complete homogeneous symmetric](https://en.wikipedia.org/wiki/Complete_homogeneous_symmetric_polynomial), [elementary homogeneous symmetric](https://en.wikipedia.org/wiki/Elementary_symmetric_polynomial), and [power sum symmetric](https://en.wikipedia.org/wiki/Power_sum_symmetric_polynomial) polynomials.\n",
    "\n",
    "Begin by creating instances of each class."
   ]
  },
  {
   "cell_type": "code",
   "execution_count": 3,
   "metadata": {},
   "outputs": [],
   "source": [
    "chsp = wp.complete()\n",
    "ehsp = wp.elementary()\n",
    "pssp = wp.power_sum()"
   ]
  },
  {
   "cell_type": "markdown",
   "metadata": {},
   "source": [
    "Now create a set of variables *x*.  Here we choose a set of ten randomly chosen integers between 1 and 10.  By definition, *x[0]* should equal 0, so we insert that at the beginning of the array; thus, the array has 11 elements with index ranging from 0 to 10.  In fact, the *wnpoly* routines do not use *x[0]* in computations but rather use it as a placeholder to allow the index of the array to correspond to the expected *x* or polynomial."
   ]
  },
  {
   "cell_type": "code",
   "execution_count": 4,
   "metadata": {},
   "outputs": [],
   "source": [
    "n = 10\n",
    "x = np.random.default_rng().integers(1, high=10, size=n)\n",
    "x = np.insert(x, 0, 0)"
   ]
  },
  {
   "cell_type": "markdown",
   "metadata": {},
   "source": [
    "Now compute the corresponding set of polynomials of the various types up to order *n*."
   ]
  },
  {
   "cell_type": "code",
   "execution_count": 5,
   "metadata": {},
   "outputs": [],
   "source": [
    "h = chsp.compute(x, n)\n",
    "e = ehsp.compute(x, n)\n",
    "p = pssp.compute(x, n)"
   ]
  },
  {
   "cell_type": "markdown",
   "metadata": {},
   "source": [
    "Print out the values and the *x*'s."
   ]
  },
  {
   "cell_type": "code",
   "execution_count": 6,
   "metadata": {},
   "outputs": [
    {
     "name": "stdout",
     "output_type": "stream",
     "text": [
      "n = 0, x[n] = 0, h[n] = 1, e[n] = 1, p[n] = 1\n",
      "n = 1, x[n] = 9, h[n] = 51, e[n] = 51, p[n] = 51\n",
      "n = 2, x[n] = 1, h[n] = 1478, e[n] = 1123, p[n] = 355\n",
      "n = 3, x[n] = 3, h[n] = 32084, e[n] = 13979, p[n] = 2769\n",
      "n = 4, x[n] = 9, h[n] = 581214, e[n] = 108205, p[n] = 22663\n",
      "n = 5, x[n] = 5, h[n] = 9294058, e[n] = 539969, p[n] = 190161\n",
      "n = 6, x[n] = 5, h[n] = 135663644, e[n] = 1743657, p[n] = 1619215\n",
      "n = 7, x[n] = 8, h[n] = 1847470632, e[n] = 3562961, p[n] = 13918809\n",
      "n = 8, x[n] = 2, h[n] = 23826689479, e[n] = 4367814, p[n] = 120435943\n",
      "n = 9, x[n] = 8, h[n] = 294170407741, e[n] = 2881440, p[n] = 1047202881\n",
      "n = 10, x[n] = 1, h[n] = 3504695807658, e[n] = 777600, p[n] = 9140643775\n"
     ]
    }
   ],
   "source": [
    "for n in range(len(x)):\n",
    "    print(\"n = {:d}, x[n] = {:d}, h[n] = {:d}, e[n] = {:d}, p[n] = {:d}\".format(n, x[n], h[n], e[n], p[n]))"
   ]
  },
  {
   "cell_type": "markdown",
   "metadata": {},
   "source": [
    "We can now check some of [Newton's identities](https://en.wikipedia.org/wiki/Newton%27s_identities).  The first we will check relates the complete and elementary polynomials such that $d_n = \\sum_{k = 0}^n (-1)^k h_{n-k}(x_1, ..., x_n) e_k(x_1, ..., x_n) = 0$."
   ]
  },
  {
   "cell_type": "code",
   "execution_count": 7,
   "metadata": {},
   "outputs": [
    {
     "name": "stdout",
     "output_type": "stream",
     "text": [
      "n = 1, d[n] = 0\n",
      "n = 2, d[n] = 0\n",
      "n = 3, d[n] = 0\n",
      "n = 4, d[n] = 0\n",
      "n = 5, d[n] = 0\n",
      "n = 6, d[n] = 0\n",
      "n = 7, d[n] = 0\n",
      "n = 8, d[n] = 0\n",
      "n = 9, d[n] = 0\n",
      "n = 10, d[n] = 0\n"
     ]
    }
   ],
   "source": [
    "for n in range(1, len(x)):\n",
    "    d = 0\n",
    "    for k in range(n+1):\n",
    "        d += np.power(-1, k) * h[n-k] * e[k]\n",
    "    print(\"n = {:d}, d[n] = {:d}\".format(n, d))"
   ]
  },
  {
   "cell_type": "markdown",
   "metadata": {},
   "source": [
    "Now we check an identity relating the complete homogeneous symmetric and power sum symmetric polynomials, namely, that $nh_n = \\sum_{k=1}^n h_{n-k} p_k$."
   ]
  },
  {
   "cell_type": "code",
   "execution_count": 8,
   "metadata": {},
   "outputs": [
    {
     "name": "stdout",
     "output_type": "stream",
     "text": [
      "n = 1, n*h[n] = 51, sum = 51, difference = 0\n",
      "n = 2, n*h[n] = 2956, sum = 2956, difference = 0\n",
      "n = 3, n*h[n] = 96252, sum = 96252, difference = 0\n",
      "n = 4, n*h[n] = 2324856, sum = 2324856, difference = 0\n",
      "n = 5, n*h[n] = 46470290, sum = 46470290, difference = 0\n",
      "n = 6, n*h[n] = 813981864, sum = 813981864, difference = 0\n",
      "n = 7, n*h[n] = 12932294424, sum = 12932294424, difference = 0\n",
      "n = 8, n*h[n] = 190613515832, sum = 190613515832, difference = 0\n",
      "n = 9, n*h[n] = 2647533669669, sum = 2647533669669, difference = 0\n",
      "n = 10, n*h[n] = 35046958076580, sum = 35046958076580, difference = 0\n"
     ]
    }
   ],
   "source": [
    "for n in range(1, len(x)):\n",
    "    sum = 0\n",
    "    for k in range(1, n+1):\n",
    "        sum += h[n-k] * p[k]\n",
    "    print(\n",
    "        \"n = {:d}, n*h[n] = {:d}, sum = {:d}, difference = {:d}\".format(\n",
    "            n, n*h[n], sum, n*h[n] - sum)\n",
    "    )"
   ]
  },
  {
   "cell_type": "markdown",
   "metadata": {},
   "source": [
    "Finally, we will check the identity that $n e_n = \\sum_{k=1}^n (-1)^{k-1} e_{n-k} p_k$."
   ]
  },
  {
   "cell_type": "code",
   "execution_count": 9,
   "metadata": {},
   "outputs": [
    {
     "name": "stdout",
     "output_type": "stream",
     "text": [
      "n = 1, n*e[n] = 51, sum = 51, difference = 0\n",
      "n = 2, n*e[n] = 2246, sum = 2246, difference = 0\n",
      "n = 3, n*e[n] = 41937, sum = 41937, difference = 0\n",
      "n = 4, n*e[n] = 432820, sum = 432820, difference = 0\n",
      "n = 5, n*e[n] = 2699845, sum = 2699845, difference = 0\n",
      "n = 6, n*e[n] = 10461942, sum = 10461942, difference = 0\n",
      "n = 7, n*e[n] = 24940727, sum = 24940727, difference = 0\n",
      "n = 8, n*e[n] = 34942512, sum = 34942512, difference = 0\n",
      "n = 9, n*e[n] = 25932960, sum = 25932960, difference = 0\n",
      "n = 10, n*e[n] = 7776000, sum = 7776000, difference = 0\n"
     ]
    }
   ],
   "source": [
    "for n in range(1, len(x)):\n",
    "    sum = 0\n",
    "    for k in range(1, n+1):\n",
    "        sum += np.power(-1, k-1) * e[n-k] * p[k]\n",
    "    print(\n",
    "        \"n = {:d}, n*e[n] = {:d}, sum = {:d}, difference = {:d}\".format(\n",
    "            n, n*e[n], sum, n*e[n] - sum)\n",
    "    )"
   ]
  },
  {
   "cell_type": "markdown",
   "metadata": {},
   "source": [
    "It is also possible to compute the symmetric polynomials normalized by the number of terms in each polynomial.  Here one should not use integers but rather floats or similar type.  Again, the first *x* should be zero, so insert that."
   ]
  },
  {
   "cell_type": "code",
   "execution_count": 10,
   "metadata": {},
   "outputs": [],
   "source": [
    "n = 5\n",
    "x = np.random.default_rng().uniform(0.0, 10.0, size=n)\n",
    "x = np.insert(x, 0, 0.)"
   ]
  },
  {
   "cell_type": "markdown",
   "metadata": {},
   "source": [
    "Now compute and print out the normalized polynomials."
   ]
  },
  {
   "cell_type": "code",
   "execution_count": 11,
   "metadata": {},
   "outputs": [
    {
     "name": "stdout",
     "output_type": "stream",
     "text": [
      "n = 0, x[n] = 0.0000, h_norm[n] = 1.0000, e_norm[n] = 1.0000, p_norm[n] = 1.0000\n",
      "n = 1, x[n] = 4.9140, h_norm[n] = 3.7950, e_norm[n] = 3.7950, p_norm[n] = 3.7950\n",
      "n = 2, x[n] = 2.6837, h_norm[n] = 15.0749, e_norm[n] = 13.3932, p_norm[n] = 18.4382\n",
      "n = 3, x[n] = 4.1541, h_norm[n] = 62.2240, e_norm[n] = 42.8504, p_norm[n] = 98.6947\n",
      "n = 4, x[n] = 6.5694, h_norm[n] = 265.4662, e_norm[n] = 117.5890, p_norm[n] = 559.1008\n",
      "n = 5, x[n] = 0.6539, h_norm[n] = 1165.8629, e_norm[n] = 235.3317, p_norm[n] = 3295.5431\n"
     ]
    }
   ],
   "source": [
    "h_norm = chsp.compute_normalized(x, n)\n",
    "e_norm = ehsp.compute_normalized(x, n)\n",
    "p_norm = pssp.compute_normalized(x, n)\n",
    "\n",
    "for n in range(len(x)):\n",
    "    print(\n",
    "        \"n = {:d}, x[n] = {:.4f}, h_norm[n] = {:.4f}, e_norm[n] = {:.4f}, p_norm[n] = {:.4f}\".format(\n",
    "        n, x[n], h_norm[n], e_norm[n], p_norm[n]))"
   ]
  },
  {
   "cell_type": "markdown",
   "metadata": {},
   "source": [
    "<a id='bell'></a>\n",
    "# Bell polynomials"
   ]
  },
  {
   "cell_type": "markdown",
   "metadata": {},
   "source": [
    "This section illustrates *wnpoly's* Bell polynomial module.  The module has a class for complete and partial Bell polynomials."
   ]
  },
  {
   "cell_type": "markdown",
   "metadata": {},
   "source": [
    "Begin by creating an instance of the Bell polynomial class."
   ]
  },
  {
   "cell_type": "code",
   "execution_count": 12,
   "metadata": {},
   "outputs": [],
   "source": [
    "my_bell = wp.bell()"
   ]
  },
  {
   "cell_type": "markdown",
   "metadata": {},
   "source": [
    "Now generate some Bell polynomials.  By definition, $B_0 = 1$, so insert that."
   ]
  },
  {
   "cell_type": "code",
   "execution_count": 13,
   "metadata": {},
   "outputs": [],
   "source": [
    "n = 5\n",
    "b = np.random.default_rng().uniform(low=1, high=10, size=n)\n",
    "b = np.insert(b, 0, 1.)"
   ]
  },
  {
   "cell_type": "markdown",
   "metadata": {},
   "source": [
    "Now invert the Bell polynomials to find the *x's* that would give rise to those Bell polynomials."
   ]
  },
  {
   "cell_type": "code",
   "execution_count": 14,
   "metadata": {},
   "outputs": [],
   "source": [
    "x = my_bell.invert(b)"
   ]
  },
  {
   "cell_type": "markdown",
   "metadata": {},
   "source": [
    "Compute the Bell polynomials from those *x's* and use them to compute the Bell polynomials.  Compare the computed polynomials to the original ones."
   ]
  },
  {
   "cell_type": "code",
   "execution_count": 15,
   "metadata": {},
   "outputs": [
    {
     "name": "stdout",
     "output_type": "stream",
     "text": [
      "n = 0, x[n] = 0.000000e+00, b[n] = 1.000000e+00, bc[n] = 1.000000e+00\n",
      "n = 1, x[n] = 9.857381e+00, b[n] = 9.857381e+00, bc[n] = 9.857381e+00\n",
      "n = 2, x[n] = -9.336011e+01, b[n] = 3.807854e+00, bc[n] = 3.807854e+00\n",
      "n = 3, x[n] = 1.806513e+03, b[n] = 3.475969e+00, bc[n] = 3.475969e+00\n",
      "n = 4, x[n] = -5.238279e+04, b[n] = 7.426402e+00, bc[n] = 7.426402e+00\n",
      "n = 5, x[n] = 2.025388e+06, b[n] = 8.260705e+00, bc[n] = 8.260705e+00\n"
     ]
    }
   ],
   "source": [
    "bc = my_bell.compute(x)\n",
    "\n",
    "for n in range(len(x)):\n",
    "    print(\n",
    "        \"n = {:d}, x[n] = {:.6e}, b[n] = {:.6e}, bc[n] = {:.6e}\".format(\n",
    "            n, x[n], b[n], bc[n]\n",
    "        )\n",
    "    )"
   ]
  },
  {
   "cell_type": "markdown",
   "metadata": {},
   "source": [
    "Now we study the partial Bell polynomial class.  First create an instance."
   ]
  },
  {
   "cell_type": "code",
   "execution_count": 16,
   "metadata": {},
   "outputs": [],
   "source": [
    "my_partial_bell = wp.partial_bell()"
   ]
  },
  {
   "cell_type": "markdown",
   "metadata": {},
   "source": [
    "Now compute the partial Bell polynomials from the *x's* above.  The return is a two-dimensional array with the indices *n* and *k* giving $B_{n,k}(x_1, ..., x_{n-k+1})$."
   ]
  },
  {
   "cell_type": "code",
   "execution_count": 17,
   "metadata": {},
   "outputs": [],
   "source": [
    "pbc = my_partial_bell.compute(x)"
   ]
  },
  {
   "cell_type": "markdown",
   "metadata": {},
   "source": [
    "Check the results by noting that the complete Bell polynomials $B_n$ are given by $B_n(x_1, ..., x_n) = \\sum_{k=1}^n B_{n,k}(x_1, ..., x_{n-k+1})$.  We note that $B_{0,0} = 1$ but $B_{n,0} = 0$ for $n > 0$."
   ]
  },
  {
   "cell_type": "code",
   "execution_count": 18,
   "metadata": {},
   "outputs": [
    {
     "name": "stdout",
     "output_type": "stream",
     "text": [
      "n = 0, x[n] = 0.000000e+00, bc[n] = 1.000000e+00, bn = 1.000000e+00\n",
      "n = 1, x[n] = 9.857381e+00, bc[n] = 9.857381e+00, bn = 9.857381e+00\n",
      "n = 2, x[n] = -9.336011e+01, bc[n] = 3.807854e+00, bn = 3.807854e+00\n",
      "n = 3, x[n] = 1.806513e+03, bc[n] = 3.475969e+00, bn = 3.475969e+00\n",
      "n = 4, x[n] = -5.238279e+04, bc[n] = 7.426402e+00, bn = 7.426402e+00\n",
      "n = 5, x[n] = 2.025388e+06, bc[n] = 8.260705e+00, bn = 8.260705e+00\n"
     ]
    }
   ],
   "source": [
    "for n in range(len(x)):\n",
    "    bn = 0\n",
    "    for k in range(0, n+1):\n",
    "        bn += pbc[n, k]\n",
    "    print(\n",
    "        \"n = {:d}, x[n] = {:.6e}, bc[n] = {:.6e}, bn = {:.6e}\".format(\n",
    "            n, x[n], bc[n], bn\n",
    "        )\n",
    "    )"
   ]
  },
  {
   "cell_type": "markdown",
   "metadata": {},
   "source": [
    "As a final exercise, we note that $x_n = B_{n,1}$.  Here we check that."
   ]
  },
  {
   "cell_type": "code",
   "execution_count": 19,
   "metadata": {},
   "outputs": [
    {
     "name": "stdout",
     "output_type": "stream",
     "text": [
      "n = 0, x[n] = 0.000000e+00, pbc[n,1] = 0.000000e+00\n",
      "n = 1, x[n] = 9.857381e+00, pbc[n,1] = 9.857381e+00\n",
      "n = 2, x[n] = -9.336011e+01, pbc[n,1] = -9.336011e+01\n",
      "n = 3, x[n] = 1.806513e+03, pbc[n,1] = 1.806513e+03\n",
      "n = 4, x[n] = -5.238279e+04, pbc[n,1] = -5.238279e+04\n",
      "n = 5, x[n] = 2.025388e+06, pbc[n,1] = 2.025388e+06\n"
     ]
    }
   ],
   "source": [
    "for n in range(len(x)):\n",
    "    print(\"n = {:d}, x[n] = {:.6e}, pbc[n,1] = {:.6e}\".format(n, x[n], pbc[n, 1]))"
   ]
  },
  {
   "cell_type": "code",
   "execution_count": null,
   "metadata": {},
   "outputs": [],
   "source": []
  }
 ],
 "metadata": {
  "kernelspec": {
   "display_name": "Python 3 (ipykernel)",
   "language": "python",
   "name": "python3"
  },
  "language_info": {
   "codemirror_mode": {
    "name": "ipython",
    "version": 3
   },
   "file_extension": ".py",
   "mimetype": "text/x-python",
   "name": "python",
   "nbconvert_exporter": "python",
   "pygments_lexer": "ipython3",
   "version": "3.11.1"
  }
 },
 "nbformat": 4,
 "nbformat_minor": 4
}
