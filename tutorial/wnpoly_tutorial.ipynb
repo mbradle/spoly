{
 "cells": [
  {
   "cell_type": "markdown",
   "metadata": {},
   "source": [
    "The aim of this notebook is to illustrate the usage of wnpoly.  Begin by importing the necessary packages."
   ]
  },
  {
   "cell_type": "code",
   "execution_count": 1,
   "metadata": {},
   "outputs": [],
   "source": [
    "import numpy as np\n",
    "import wnpoly as wp"
   ]
  },
  {
   "cell_type": "markdown",
   "metadata": {},
   "source": [
    "# Symmetric polynomials"
   ]
  },
  {
   "cell_type": "markdown",
   "metadata": {},
   "source": [
    "This section illustrates *wnpoly's* symmetric polynomial classes."
   ]
  },
  {
   "cell_type": "markdown",
   "metadata": {},
   "source": [
    "# Bell polynomials"
   ]
  },
  {
   "cell_type": "markdown",
   "metadata": {},
   "source": [
    "This section illustrates *wnpoly's* Bell polynomial classes."
   ]
  },
  {
   "cell_type": "markdown",
   "metadata": {},
   "source": [
    "Create an instance of the Bell polynomial class."
   ]
  },
  {
   "cell_type": "code",
   "execution_count": 2,
   "metadata": {},
   "outputs": [],
   "source": [
    "my_bell = wp.bell()"
   ]
  },
  {
   "cell_type": "code",
   "execution_count": 3,
   "metadata": {},
   "outputs": [],
   "source": [
    "my_size = 10"
   ]
  },
  {
   "cell_type": "code",
   "execution_count": 4,
   "metadata": {},
   "outputs": [],
   "source": [
    "b = np.random.default_rng().uniform(low=1, high=10, size=my_size)\n",
    "b[0] = 1  # By definition"
   ]
  },
  {
   "cell_type": "code",
   "execution_count": 5,
   "metadata": {},
   "outputs": [],
   "source": [
    "x = my_bell.invert(b)"
   ]
  },
  {
   "cell_type": "code",
   "execution_count": 6,
   "metadata": {},
   "outputs": [],
   "source": [
    "bc = my_bell.compute(x)"
   ]
  },
  {
   "cell_type": "code",
   "execution_count": 7,
   "metadata": {},
   "outputs": [
    {
     "name": "stdout",
     "output_type": "stream",
     "text": [
      "n = 0, x[n] = 0.000000e+00, b[n] = 1.000000e+00, bc[n] = 1.000000e+00\n",
      "n = 1, x[n] = 5.305534e+00, b[n] = 5.305534e+00, bc[n] = 5.305534e+00\n",
      "n = 2, x[n] = -1.886587e+01, b[n] = 9.282827e+00, bc[n] = 9.282827e+00\n",
      "n = 3, x[n] = 1.571644e+02, b[n] = 6.227726e+00, bc[n] = 6.227726e+00\n",
      "n = 4, x[n] = -2.007867e+03, b[n] = 1.311540e+00, bc[n] = 1.311540e+00\n",
      "n = 5, x[n] = 3.433029e+04, b[n] = 9.641942e+00, bc[n] = 9.641942e+00\n",
      "n = 6, x[n] = -7.340270e+05, b[n] = 4.094208e+00, bc[n] = 4.094208e+00\n",
      "n = 7, x[n] = 1.883427e+07, b[n] = 1.874866e+00, bc[n] = 1.874866e+00\n",
      "n = 8, x[n] = -5.638123e+08, b[n] = 1.287442e+00, bc[n] = 1.287442e+00\n",
      "n = 9, x[n] = 1.928913e+10, b[n] = 4.556653e+00, bc[n] = 4.556652e+00\n"
     ]
    }
   ],
   "source": [
    "for n in range(len(x)):\n",
    "    print(\n",
    "        \"n = {:d}, x[n] = {:.6e}, b[n] = {:.6e}, bc[n] = {:.6e}\".format(\n",
    "            n, x[n], b[n], bc[n]\n",
    "        )\n",
    "    )"
   ]
  },
  {
   "cell_type": "code",
   "execution_count": 8,
   "metadata": {},
   "outputs": [],
   "source": [
    "my_partial_bell = wp.partial_bell()"
   ]
  },
  {
   "cell_type": "code",
   "execution_count": 9,
   "metadata": {},
   "outputs": [],
   "source": [
    "pbc = my_partial_bell.compute(x)"
   ]
  },
  {
   "cell_type": "code",
   "execution_count": 10,
   "metadata": {},
   "outputs": [
    {
     "name": "stdout",
     "output_type": "stream",
     "text": [
      "n = 0, x[n] = 0.000000e+00, bc[n] = 1.000000e+00, bn = 1.000000e+00\n",
      "n = 1, x[n] = 5.305534e+00, bc[n] = 5.305534e+00, bn = 5.305534e+00\n",
      "n = 2, x[n] = -1.886587e+01, bc[n] = 9.282827e+00, bn = 9.282827e+00\n",
      "n = 3, x[n] = 1.571644e+02, bc[n] = 6.227726e+00, bn = 6.227726e+00\n",
      "n = 4, x[n] = -2.007867e+03, bc[n] = 1.311540e+00, bn = 1.311540e+00\n",
      "n = 5, x[n] = 3.433029e+04, bc[n] = 9.641942e+00, bn = 9.641942e+00\n",
      "n = 6, x[n] = -7.340270e+05, bc[n] = 4.094208e+00, bn = 4.094208e+00\n",
      "n = 7, x[n] = 1.883427e+07, bc[n] = 1.874866e+00, bn = 1.874866e+00\n",
      "n = 8, x[n] = -5.638123e+08, bc[n] = 1.287442e+00, bn = 1.287442e+00\n",
      "n = 9, x[n] = 1.928913e+10, bc[n] = 4.556652e+00, bn = 4.556657e+00\n"
     ]
    }
   ],
   "source": [
    "for n in range(len(x)):\n",
    "    bn = 0\n",
    "    for k in range(n + 1):\n",
    "        bn += pbc[n, k]\n",
    "    print(\n",
    "        \"n = {:d}, x[n] = {:.6e}, bc[n] = {:.6e}, bn = {:.6e}\".format(\n",
    "            n, x[n], bc[n], bn\n",
    "        )\n",
    "    )"
   ]
  },
  {
   "cell_type": "code",
   "execution_count": 11,
   "metadata": {},
   "outputs": [
    {
     "name": "stdout",
     "output_type": "stream",
     "text": [
      "n = 0, x[n] = 0.000000e+00, pbc[n,1] = 0.000000e+00\n",
      "n = 1, x[n] = 5.305534e+00, pbc[n,1] = 5.305534e+00\n",
      "n = 2, x[n] = -1.886587e+01, pbc[n,1] = -1.886587e+01\n",
      "n = 3, x[n] = 1.571644e+02, pbc[n,1] = 1.571644e+02\n",
      "n = 4, x[n] = -2.007867e+03, pbc[n,1] = -2.007867e+03\n",
      "n = 5, x[n] = 3.433029e+04, pbc[n,1] = 3.433029e+04\n",
      "n = 6, x[n] = -7.340270e+05, pbc[n,1] = -7.340270e+05\n",
      "n = 7, x[n] = 1.883427e+07, pbc[n,1] = 1.883427e+07\n",
      "n = 8, x[n] = -5.638123e+08, pbc[n,1] = -5.638123e+08\n",
      "n = 9, x[n] = 1.928913e+10, pbc[n,1] = 1.928913e+10\n"
     ]
    }
   ],
   "source": [
    "for n in range(len(x)):\n",
    "    print(\"n = {:d}, x[n] = {:.6e}, pbc[n,1] = {:.6e}\".format(n, x[n], pbc[n, 1]))"
   ]
  },
  {
   "cell_type": "code",
   "execution_count": null,
   "metadata": {},
   "outputs": [],
   "source": []
  }
 ],
 "metadata": {
  "kernelspec": {
   "display_name": "Python 3 (ipykernel)",
   "language": "python",
   "name": "python3"
  },
  "language_info": {
   "codemirror_mode": {
    "name": "ipython",
    "version": 3
   },
   "file_extension": ".py",
   "mimetype": "text/x-python",
   "name": "python",
   "nbconvert_exporter": "python",
   "pygments_lexer": "ipython3",
   "version": "3.11.1"
  }
 },
 "nbformat": 4,
 "nbformat_minor": 4
}
